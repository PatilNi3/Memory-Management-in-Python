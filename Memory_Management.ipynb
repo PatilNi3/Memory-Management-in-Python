{
 "cells": [
  {
   "cell_type": "markdown",
   "metadata": {},
   "source": [
    "# Python Memory Management"
   ]
  },
  {
   "cell_type": "markdown",
   "metadata": {},
   "source": [
    "Memory Management in Python involves a combination of automatic garbage collection, reference counting and various internal optimizations to efficiently manage memory allocation and deallocation."
   ]
  },
  {
   "cell_type": "markdown",
   "metadata": {},
   "source": [
    "##### Reference Counting:\n",
    "    • Reference counting is a memory management technique in python that automatically deallocates objects when they are no longer referenced.\n",
    "    • When object is created, its reference count is incremented. When an object is dereferenced, its reference count is decremented. When the reference count reaches to zero, the object is deleted and memory is freed."
   ]
  },
  {
   "cell_type": "code",
   "execution_count": 1,
   "metadata": {},
   "outputs": [],
   "source": [
    "import sys"
   ]
  },
  {
   "cell_type": "code",
   "execution_count": 3,
   "metadata": {},
   "outputs": [
    {
     "name": "stdout",
     "output_type": "stream",
     "text": [
      "2\n"
     ]
    }
   ],
   "source": [
    "a = []\n",
    "\n",
    "print(sys.getrefcount(a))"
   ]
  },
  {
   "cell_type": "markdown",
   "metadata": {},
   "source": [
    "print(sys.getrefcount())    -> 2 - It means that one reference from 'a' and one reference from getrefcount()"
   ]
  },
  {
   "cell_type": "code",
   "execution_count": 4,
   "metadata": {},
   "outputs": [
    {
     "name": "stdout",
     "output_type": "stream",
     "text": [
      "3\n"
     ]
    }
   ],
   "source": [
    "b = a\n",
    "\n",
    "print(sys.getrefcount(b))"
   ]
  },
  {
   "cell_type": "markdown",
   "metadata": {},
   "source": [
    "print(sys.getrefcount()) -> - It means that one reference from 'b', one reference from 'a' and one reference from getrefcount()"
   ]
  },
  {
   "cell_type": "code",
   "execution_count": null,
   "metadata": {},
   "outputs": [
    {
     "ename": "NameError",
     "evalue": "name 'b' is not defined",
     "output_type": "error",
     "traceback": [
      "\u001b[1;31m---------------------------------------------------------------------------\u001b[0m",
      "\u001b[1;31mNameError\u001b[0m                                 Traceback (most recent call last)",
      "Cell \u001b[1;32mIn[5], line 3\u001b[0m\n\u001b[0;32m      1\u001b[0m \u001b[38;5;28;01mdel\u001b[39;00m b\n\u001b[1;32m----> 3\u001b[0m \u001b[38;5;28mprint\u001b[39m(sys\u001b[38;5;241m.\u001b[39mgetrefcount(\u001b[43mb\u001b[49m))\n",
      "\u001b[1;31mNameError\u001b[0m: name 'b' is not defined"
     ]
    }
   ],
   "source": [
    "del b\n",
    "\n",
    "print(sys.getrefcount(b))   #NameError"
   ]
  },
  {
   "cell_type": "code",
   "execution_count": 6,
   "metadata": {},
   "outputs": [
    {
     "name": "stdout",
     "output_type": "stream",
     "text": [
      "2\n"
     ]
    }
   ],
   "source": [
    "print(sys.getrefcount(a))"
   ]
  },
  {
   "cell_type": "markdown",
   "metadata": {},
   "source": [
    "##### Garbage Collection (GC):\n",
    "\n",
    "    • GC is a built-in process that automatically manages memory by removing objects that are no longer in use.\n",
    "    • GC keeps track of all objects in memory and identifies those that are no longer referenced or reachable by the program.\n",
    "    • Once identified, GC frees up the memory occupied by the unused objects and makes it available for new objects."
   ]
  },
  {
   "cell_type": "code",
   "execution_count": 7,
   "metadata": {},
   "outputs": [],
   "source": [
    "import gc"
   ]
  },
  {
   "cell_type": "code",
   "execution_count": 8,
   "metadata": {},
   "outputs": [],
   "source": [
    "# enable garbage collection\n",
    "gc.enable()"
   ]
  },
  {
   "cell_type": "code",
   "execution_count": 9,
   "metadata": {},
   "outputs": [],
   "source": [
    "# disable garbage collection\n",
    "gc.disable()"
   ]
  },
  {
   "cell_type": "code",
   "execution_count": null,
   "metadata": {},
   "outputs": [
    {
     "data": {
      "text/plain": [
       "1073"
      ]
     },
     "execution_count": 10,
     "metadata": {},
     "output_type": "execute_result"
    }
   ],
   "source": [
    "# manually trigger the garbage collection\n",
    "gc.collect()    # returns the number of unreachable objects"
   ]
  },
  {
   "cell_type": "code",
   "execution_count": 11,
   "metadata": {},
   "outputs": [
    {
     "name": "stdout",
     "output_type": "stream",
     "text": [
      "[{'collections': 183, 'collected': 1576, 'uncollectable': 0}, {'collections': 16, 'collected': 474, 'uncollectable': 0}, {'collections': 2, 'collected': 1073, 'uncollectable': 0}]\n"
     ]
    }
   ],
   "source": [
    "# get garbage collection stats\n",
    "print(gc.get_stats())"
   ]
  },
  {
   "cell_type": "markdown",
   "metadata": {},
   "source": [
    "##### Memory Management best practices:\n",
    "\n",
    "1. Use Local Variable: Local variables have shorter lifespan and are freed sooner than global variables."
   ]
  },
  {
   "cell_type": "markdown",
   "metadata": {},
   "source": [
    "2. Avoid Circular Reference: Circular reference can lead to memory leaks if not properly managed."
   ]
  },
  {
   "cell_type": "code",
   "execution_count": 20,
   "metadata": {},
   "outputs": [
    {
     "name": "stdout",
     "output_type": "stream",
     "text": [
      "Object obj1 created.\n",
      "Object obj2 created.\n"
     ]
    }
   ],
   "source": [
    "# circular reference\n",
    "\n",
    "class MyObject:\n",
    "    def __init__(self,name):\n",
    "        self.name = name\n",
    "        print(f\"Object {self.name} created.\")\n",
    "\n",
    "    def __del__(self):\n",
    "        print(f\"Object {self.name} deleted.\")\n",
    "\n",
    "obj1 = MyObject(\"obj1\")\n",
    "obj2 = MyObject(\"obj2\")\n",
    "\n",
    "# create circular reference\n",
    "obj1.ref = obj2\n",
    "obj2.ref = obj1"
   ]
  },
  {
   "cell_type": "code",
   "execution_count": 21,
   "metadata": {},
   "outputs": [],
   "source": [
    "del obj1\n",
    "del obj2"
   ]
  },
  {
   "cell_type": "code",
   "execution_count": 22,
   "metadata": {},
   "outputs": [
    {
     "name": "stdout",
     "output_type": "stream",
     "text": [
      "Object obj1 deleted.\n",
      "Object obj2 deleted.\n"
     ]
    },
    {
     "data": {
      "text/plain": [
       "1662"
      ]
     },
     "execution_count": 22,
     "metadata": {},
     "output_type": "execute_result"
    }
   ],
   "source": [
    "# manuaaly trigger the garbage collection\n",
    "\n",
    "gc.collect()"
   ]
  },
  {
   "cell_type": "markdown",
   "metadata": {},
   "source": [
    "3. Use Generators: Generators produce items on at a time and only keep one item in memory at a time, making them efficient."
   ]
  },
  {
   "cell_type": "code",
   "execution_count": 23,
   "metadata": {},
   "outputs": [
    {
     "name": "stdout",
     "output_type": "stream",
     "text": [
      "0\n",
      "1\n",
      "2\n",
      "3\n",
      "4\n",
      "5\n",
      "6\n",
      "7\n",
      "8\n",
      "9\n",
      "10\n",
      "11\n"
     ]
    }
   ],
   "source": [
    "def generate_number(n):\n",
    "    for i in range(n):\n",
    "        yield i\n",
    "\n",
    "for j in generate_number(10000):\n",
    "    print(j)\n",
    "    if j>10:\n",
    "        break"
   ]
  },
  {
   "cell_type": "markdown",
   "metadata": {},
   "source": [
    "4. Explicitly Delete Objects: Use the del statement to delete variables and objects explicitly."
   ]
  },
  {
   "cell_type": "markdown",
   "metadata": {},
   "source": [
    "5. Profile Memory Usage: Use memory profiling tools like tracemalloc and memory profiler to identify memory leaks and optimize memory usage."
   ]
  },
  {
   "cell_type": "code",
   "execution_count": null,
   "metadata": {},
   "outputs": [],
   "source": [
    "# profiling memory usage\n",
    "\n",
    "import tracemalloc\n",
    "\n",
    "def create_list():\n",
    "    return [i for i in range(10000)]\n",
    "\n",
    "def main():\n",
    "    tracemalloc.start()\n",
    "\n",
    "    create_list()\n",
    "\n",
    "    snapshot = tracemalloc.take_snapshot()\n",
    "    top_stats = snapshot.statistics('lineno')\n",
    "\n",
    "    print(\"[ Top 10 ]\")\n",
    "\n",
    "    for stat in top_stats[:10]:\n",
    "        print(stat)"
   ]
  },
  {
   "cell_type": "code",
   "execution_count": 18,
   "metadata": {},
   "outputs": [
    {
     "name": "stdout",
     "output_type": "stream",
     "text": [
      "[ Top 10 ]\n",
      "C:\\Users\\91960\\AppData\\Local\\Programs\\Python\\Python312\\Lib\\json\\decoder.py:353: size=2557 B, count=34, average=75 B\n",
      "c:\\Users\\91960\\PYTHON\\PyCharm\\BASIC_PYTHON\\Memory Management\\memory_management\\Lib\\site-packages\\traitlets\\traitlets.py:731: size=1555 B, count=25, average=62 B\n",
      "C:\\Users\\91960\\AppData\\Local\\Programs\\Python\\Python312\\Lib\\codeop.py:126: size=1391 B, count=12, average=116 B\n",
      "c:\\Users\\91960\\PYTHON\\PyCharm\\BASIC_PYTHON\\Memory Management\\memory_management\\Lib\\site-packages\\traitlets\\traitlets.py:1514: size=1080 B, count=9, average=120 B\n",
      "c:\\Users\\91960\\PYTHON\\PyCharm\\BASIC_PYTHON\\Memory Management\\memory_management\\Lib\\site-packages\\traitlets\\traitlets.py:1543: size=1066 B, count=18, average=59 B\n",
      "c:\\Users\\91960\\PYTHON\\PyCharm\\BASIC_PYTHON\\Memory Management\\memory_management\\Lib\\site-packages\\zmq\\sugar\\socket.py:805: size=1056 B, count=6, average=176 B\n",
      "c:\\Users\\91960\\PYTHON\\PyCharm\\BASIC_PYTHON\\Memory Management\\memory_management\\Lib\\site-packages\\zmq\\sugar\\attrsettr.py:45: size=1034 B, count=22, average=47 B\n",
      "c:\\Users\\91960\\PYTHON\\PyCharm\\BASIC_PYTHON\\Memory Management\\memory_management\\Lib\\site-packages\\IPython\\core\\compilerop.py:174: size=1017 B, count=14, average=73 B\n",
      "c:\\Users\\91960\\PYTHON\\PyCharm\\BASIC_PYTHON\\Memory Management\\memory_management\\Lib\\site-packages\\jupyter_client\\session.py:1057: size=829 B, count=6, average=138 B\n",
      "c:\\Users\\91960\\PYTHON\\PyCharm\\BASIC_PYTHON\\Memory Management\\memory_management\\Lib\\site-packages\\IPython\\core\\compilerop.py:86: size=787 B, count=10, average=79 B\n"
     ]
    }
   ],
   "source": [
    "main()"
   ]
  }
 ],
 "metadata": {
  "kernelspec": {
   "display_name": "memory_management",
   "language": "python",
   "name": "python3"
  },
  "language_info": {
   "codemirror_mode": {
    "name": "ipython",
    "version": 3
   },
   "file_extension": ".py",
   "mimetype": "text/x-python",
   "name": "python",
   "nbconvert_exporter": "python",
   "pygments_lexer": "ipython3",
   "version": "3.12.1"
  }
 },
 "nbformat": 4,
 "nbformat_minor": 2
}
